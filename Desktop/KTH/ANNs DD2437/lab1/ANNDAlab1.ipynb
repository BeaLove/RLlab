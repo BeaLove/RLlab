{
 "cells": [
  {
   "cell_type": "markdown",
   "metadata": {},
   "source": []
  },
  {
   "cell_type": "code",
   "execution_count": 36,
   "metadata": {},
   "outputs": [
    {
     "name": "stdout",
     "output_type": "stream",
     "text": [
      "weight update -0.0\n",
      "[[1. 1. 1. 1.]]\n",
      "0.0\n"
     ]
    }
   ],
   "source": [
    "import numpy as np\n",
    "\n",
    "# patterns = input matrix (d_in x n+1) + 1 for bias term\n",
    "# targets = output matrix of labels (d_out x n) (d_out = 1 in this case), \n",
    "# for perceptron learning, targets should be 0,1,\n",
    "# for delta rule, targets should be -1 or 1 \n",
    "\n",
    "class Single_layer:\n",
    "    \n",
    "    def __init__(self, num_data_points, input_dims, output_dims, use_bias = True, learning_rate=0.01):\n",
    "        if use_bias == True:\n",
    "            bias = 1\n",
    "        else:\n",
    "            bias = 0\n",
    "        self.patterns = np.ones((num_data_points+bias, input_dims))\n",
    "        np.random.seed(0)\n",
    "        self.weights = np.random.normal(0,1,(1,num_data_points+bias))\n",
    "        self.learning_rate = learning_rate\n",
    "    \n",
    "    \n",
    "    def forward(self, data):\n",
    "        self.patterns[:data.shape[0], :data.shape[1]] = data\n",
    "        output = self.weights * self.patterns\n",
    "        #threshold\n",
    "        #output = np.where(output < 0, -1, 1)\n",
    "        return output\n",
    "    \n",
    "    def perceptron_rule(self, output, targets):\n",
    "        #weight update is x if positive class is misclassified as negative,\n",
    "        # -x if negative class is misclassified as positive\n",
    "        #thresholding:\n",
    "        output = np.where(output < 0, 0, 1)\n",
    "        weight_update = self.learning_rate*(output - targets)*self.patterns\n",
    "        self.weights += weight_update\n",
    "        \n",
    "    def delta_rule(self, output, targets):\n",
    "        error = output-targets\n",
    "        weight_update = -self.learning_rate*np.dot(error, np.transpose(output))\n",
    "        print(\"weight update\", weight_update)\n",
    "        \n",
    "        self.weights += weight_update\n",
    "        print(self.weights)\n",
    "        return error**2/2\n",
    "    \n",
    "\n"
   ]
  }
 ],
 "metadata": {
  "kernelspec": {
   "display_name": "Python 3",
   "language": "python",
   "name": "python3"
  },
  "language_info": {
   "codemirror_mode": {
    "name": "ipython",
    "version": 3
   },
   "file_extension": ".py",
   "mimetype": "text/x-python",
   "name": "python",
   "nbconvert_exporter": "python",
   "pygments_lexer": "ipython3",
   "version": "3.8.3"
  }
 },
 "nbformat": 4,
 "nbformat_minor": 4
}
